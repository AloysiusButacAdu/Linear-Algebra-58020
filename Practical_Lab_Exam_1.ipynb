{
  "nbformat": 4,
  "nbformat_minor": 0,
  "metadata": {
    "colab": {
      "name": "Practical Lab Exam 1.ipynb",
      "provenance": [],
      "collapsed_sections": [],
      "authorship_tag": "ABX9TyMRGAi7KK97BxprO+bQGglt",
      "include_colab_link": true
    },
    "kernelspec": {
      "name": "python3",
      "display_name": "Python 3"
    },
    "language_info": {
      "name": "python"
    }
  },
  "cells": [
    {
      "cell_type": "markdown",
      "metadata": {
        "id": "view-in-github",
        "colab_type": "text"
      },
      "source": [
        "<a href=\"https://colab.research.google.com/github/AloysiusButacAdu/Linear-Algebra-58020/blob/main/Practical_Lab_Exam_1.ipynb\" target=\"_parent\"><img src=\"https://colab.research.google.com/assets/colab-badge.svg\" alt=\"Open In Colab\"/></a>"
      ]
    },
    {
      "cell_type": "markdown",
      "metadata": {
        "id": "i9y9_Iz---_T"
      },
      "source": [
        "# **Practical Lab Exam 1**"
      ]
    },
    {
      "cell_type": "code",
      "metadata": {
        "id": "M9yx2zdG_XbE"
      },
      "source": [
        "import numpy as np"
      ],
      "execution_count": null,
      "outputs": []
    },
    {
      "cell_type": "markdown",
      "metadata": {
        "id": "gsWz0jkl_I0M"
      },
      "source": [
        "## Problem 1"
      ]
    },
    {
      "cell_type": "code",
      "metadata": {
        "id": "ipZyhP2h_Lsx"
      },
      "source": [
        "W = np.array([[1, -3], [2, -2], [3, 1]])\n",
        "X = np.array([[3, 2, 1], [-1, 2, 3], [2, -1, 1]])\n",
        "Y = np.array([[1, 2, 0], [0, -1, 2]])\n",
        "Z = np.array([[0, 1], [2, 3]])"
      ],
      "execution_count": 69,
      "outputs": []
    },
    {
      "cell_type": "markdown",
      "metadata": {
        "id": "a_tjB4rNAV4k"
      },
      "source": [
        "### a."
      ]
    },
    {
      "cell_type": "code",
      "metadata": {
        "colab": {
          "base_uri": "https://localhost:8080/"
        },
        "id": "BnIdQy6XAT_6",
        "outputId": "59266707-1934-4275-f872-dc4797cc4a3c"
      },
      "source": [
        "np.dot(W,Y)"
      ],
      "execution_count": 70,
      "outputs": [
        {
          "output_type": "execute_result",
          "data": {
            "text/plain": [
              "array([[ 1,  5, -6],\n",
              "       [ 2,  6, -4],\n",
              "       [ 3,  5,  2]])"
            ]
          },
          "metadata": {},
          "execution_count": 70
        }
      ]
    },
    {
      "cell_type": "markdown",
      "metadata": {
        "id": "NSiKz7gVB05t"
      },
      "source": [
        "### b."
      ]
    },
    {
      "cell_type": "code",
      "metadata": {
        "colab": {
          "base_uri": "https://localhost:8080/"
        },
        "id": "hzU_OBISB29I",
        "outputId": "a4e46af8-e8c7-497f-e6ce-e1ce7ac2a6bf"
      },
      "source": [
        "print(np.add(Z, Z))"
      ],
      "execution_count": null,
      "outputs": [
        {
          "output_type": "stream",
          "name": "stdout",
          "text": [
            "[[0 2]\n",
            " [4 6]]\n"
          ]
        }
      ]
    },
    {
      "cell_type": "markdown",
      "metadata": {
        "id": "ex-bRlk2CWH_"
      },
      "source": [
        "### c."
      ]
    },
    {
      "cell_type": "code",
      "metadata": {
        "colab": {
          "base_uri": "https://localhost:8080/"
        },
        "id": "HVYCA3zFCXNP",
        "outputId": "2e8b770e-e30a-4b44-a00b-5406485fa906"
      },
      "source": [
        "print(np.multiply(3, X))"
      ],
      "execution_count": 74,
      "outputs": [
        {
          "output_type": "stream",
          "name": "stdout",
          "text": [
            "[[ 9  6  3]\n",
            " [-3  6  9]\n",
            " [ 6 -3  3]]\n"
          ]
        }
      ]
    },
    {
      "cell_type": "markdown",
      "metadata": {
        "id": "PDfwVGWMQxhf"
      },
      "source": [
        ""
      ]
    },
    {
      "cell_type": "markdown",
      "metadata": {
        "id": "yuhOuiarCcak"
      },
      "source": [
        "## Problem 2"
      ]
    },
    {
      "cell_type": "markdown",
      "metadata": {
        "id": "nI-vY_lHD_iV"
      },
      "source": [
        "### a. \n",
        "The product of (YW)^2 is not defined\n",
        "\n",
        "_The statement is **FALSE**_"
      ]
    },
    {
      "cell_type": "code",
      "metadata": {
        "colab": {
          "base_uri": "https://localhost:8080/"
        },
        "id": "ZjHX0UUjCd35",
        "outputId": "f51b7718-cb4f-4a97-d7ce-df8830ae31f1"
      },
      "source": [
        "# using numpy, we square the \n",
        "# product of matcies Y and W\n",
        "np.power(np.dot(Y, W), 2)"
      ],
      "execution_count": 75,
      "outputs": [
        {
          "output_type": "execute_result",
          "data": {
            "text/plain": [
              "array([[25, 49],\n",
              "       [16, 16]])"
            ]
          },
          "metadata": {},
          "execution_count": 75
        }
      ]
    },
    {
      "cell_type": "markdown",
      "metadata": {
        "id": "sAIGF53jED5M"
      },
      "source": [
        "### b.\n",
        "WY - X\n",
        "\n",
        "_The statement is **TRUE**_\n"
      ]
    },
    {
      "cell_type": "code",
      "metadata": {
        "id": "5J_L-U8WEFJH",
        "colab": {
          "base_uri": "https://localhost:8080/"
        },
        "outputId": "aa51da3b-2362-4b35-e126-90351d283866"
      },
      "source": [
        "# useing numpy, we subtract the\n",
        "# matrix X from the product of \n",
        "# matrices W  and Y\n",
        "np.subtract(np.dot(W,Y),X)"
      ],
      "execution_count": 72,
      "outputs": [
        {
          "output_type": "execute_result",
          "data": {
            "text/plain": [
              "array([[-2,  3, -7],\n",
              "       [ 3,  4, -7],\n",
              "       [ 1,  6,  1]])"
            ]
          },
          "metadata": {},
          "execution_count": 72
        }
      ]
    },
    {
      "cell_type": "markdown",
      "metadata": {
        "id": "793wIzArE2Xo"
      },
      "source": [
        "### c.\n",
        "YW – Z^2 \n",
        "\n",
        "_The statement is **FALSE**_"
      ]
    },
    {
      "cell_type": "code",
      "metadata": {
        "colab": {
          "base_uri": "https://localhost:8080/"
        },
        "id": "xfK19mvdGdc9",
        "outputId": "c4cc1224-9a9b-4688-c159-9c6997387a44"
      },
      "source": [
        "# using numpy, we subtract the\n",
        "# square of matrix Z from the \n",
        "# product of matrices y and W\n",
        "np.subtract(np.dot(Y,W),np.power(Z,2))"
      ],
      "execution_count": 73,
      "outputs": [
        {
          "output_type": "execute_result",
          "data": {
            "text/plain": [
              "array([[ 5, -8],\n",
              "       [ 0, -5]])"
            ]
          },
          "metadata": {},
          "execution_count": 73
        }
      ]
    }
  ]
}