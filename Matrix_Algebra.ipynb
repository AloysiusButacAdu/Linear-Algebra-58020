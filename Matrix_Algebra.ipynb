{
  "nbformat": 4,
  "nbformat_minor": 0,
  "metadata": {
    "colab": {
      "name": "Matrix Algebra.ipynb",
      "provenance": [],
      "collapsed_sections": [],
      "authorship_tag": "ABX9TyNAMNvZz5xF6QcD+sVIH+nB",
      "include_colab_link": true
    },
    "kernelspec": {
      "name": "python3",
      "display_name": "Python 3"
    },
    "language_info": {
      "name": "python"
    }
  },
  "cells": [
    {
      "cell_type": "markdown",
      "metadata": {
        "id": "view-in-github",
        "colab_type": "text"
      },
      "source": [
        "<a href=\"https://colab.research.google.com/github/AloysiusButacAdu/Linear-Algebra-58020/blob/main/Matrix_Algebra.ipynb\" target=\"_parent\"><img src=\"https://colab.research.google.com/assets/colab-badge.svg\" alt=\"Open In Colab\"/></a>"
      ]
    },
    {
      "cell_type": "code",
      "metadata": {
        "id": "0sZBxt_RTDzF"
      },
      "source": [
        "import numpy as np"
      ],
      "execution_count": 2,
      "outputs": []
    },
    {
      "cell_type": "markdown",
      "metadata": {
        "id": "4bGb7l1hTF_p"
      },
      "source": [
        "# Finding the **Inverse** of a Matrix using Pyhton\n"
      ]
    },
    {
      "cell_type": "code",
      "metadata": {
        "colab": {
          "base_uri": "https://localhost:8080/"
        },
        "id": "1VmrJ5HKTLo1",
        "outputId": "c7a7e4a2-bc41-4f6c-de89-0178ccd8b308"
      },
      "source": [
        "# Creating a 2x2 matrix\n",
        "A = np.array([[1,2],[4,7]])\n",
        "print(A)"
      ],
      "execution_count": 71,
      "outputs": [
        {
          "output_type": "stream",
          "name": "stdout",
          "text": [
            "[[1 2]\n",
            " [4 7]]\n"
          ]
        }
      ]
    },
    {
      "cell_type": "code",
      "metadata": {
        "colab": {
          "base_uri": "https://localhost:8080/"
        },
        "id": "827IbLBETSfH",
        "outputId": "255e9e37-94cc-40d6-839f-d26375a04132"
      },
      "source": [
        "# Getting the inverse of matrix A\n",
        "B = np.linalg.inv(A)\n",
        "print(B)"
      ],
      "execution_count": 72,
      "outputs": [
        {
          "output_type": "stream",
          "name": "stdout",
          "text": [
            "[[-7.  2.]\n",
            " [ 4. -1.]]\n"
          ]
        }
      ]
    },
    {
      "cell_type": "code",
      "metadata": {
        "colab": {
          "base_uri": "https://localhost:8080/"
        },
        "id": "pwjJkR9oTcwu",
        "outputId": "2fd7e2b5-e388-4d8d-ac42-9fe686ea42a7"
      },
      "source": [
        "# Checking/Veryfying\n",
        "C = np.dot(A, B)\n",
        "print(C)"
      ],
      "execution_count": 73,
      "outputs": [
        {
          "output_type": "stream",
          "name": "stdout",
          "text": [
            "[[1. 0.]\n",
            " [0. 1.]]\n"
          ]
        }
      ]
    },
    {
      "cell_type": "markdown",
      "metadata": {
        "id": "FRxp5iR7UO9F"
      },
      "source": [
        "# Python Program to **Transpose** a 3x3 Matrix A=([6,1,1],[4,-2,5],[2,8,7])"
      ]
    },
    {
      "cell_type": "code",
      "metadata": {
        "colab": {
          "base_uri": "https://localhost:8080/"
        },
        "id": "W2gPpdf0Vav6",
        "outputId": "f8121191-d280-4ae9-876d-edef2fd5684f"
      },
      "source": [
        "# Transpose of a 3x3 matrix\n",
        "A = np.array([[6,1,1],[4,-2,5],[2,8,7]])\n",
        "B = np.transpose(A)\n",
        "print(\"Matrix: \\n\", A)\n",
        "print(\"Transpose: \\n\", B)"
      ],
      "execution_count": 74,
      "outputs": [
        {
          "output_type": "stream",
          "name": "stdout",
          "text": [
            "Matrix: \n",
            " [[ 6  1  1]\n",
            " [ 4 -2  5]\n",
            " [ 2  8  7]]\n",
            "Transpose: \n",
            " [[ 6  4  2]\n",
            " [ 1 -2  8]\n",
            " [ 1  5  7]]\n"
          ]
        }
      ]
    },
    {
      "cell_type": "code",
      "metadata": {
        "colab": {
          "base_uri": "https://localhost:8080/"
        },
        "id": "mxuC-WcpWr0h",
        "outputId": "e4d87217-1447-47c5-d15f-dfe886de2763"
      },
      "source": [
        "# Inverse of a 3x3 matrix\n",
        "C = np.array([[6,-1,1],[4,2,5],[2,8,-7]])\n",
        "D = np.linalg.inv(C)\n",
        "print(\"Matrix: \\n\",C)\n",
        "print(\"Inverse: \\n\",D)\n",
        "\n",
        "# Checking if D is the inverse of C\n",
        "m = np.dot(C, D) # This should creates an identity matrix\n",
        "n = np.array(m, dtype=int) # This cleans up the messy floating points\n",
        "print(\"Check: \\n\",n)"
      ],
      "execution_count": 79,
      "outputs": [
        {
          "output_type": "stream",
          "name": "stdout",
          "text": [
            "Matrix: \n",
            " [[ 6 -1  1]\n",
            " [ 4  2  5]\n",
            " [ 2  8 -7]]\n",
            "Inverse: \n",
            " [[ 0.16167665 -0.00299401  0.02095808]\n",
            " [-0.11377246  0.13173653  0.07784431]\n",
            " [-0.08383234  0.1497006  -0.04790419]]\n",
            "Check: \n",
            " [[1 0 0]\n",
            " [0 1 0]\n",
            " [0 0 1]]\n"
          ]
        }
      ]
    },
    {
      "cell_type": "markdown",
      "metadata": {
        "id": "fwO1_R1zb_pI"
      },
      "source": [
        "# **Transposing** and **Inversing** a 4x4 Matrix"
      ]
    },
    {
      "cell_type": "code",
      "metadata": {
        "colab": {
          "base_uri": "https://localhost:8080/"
        },
        "id": "Lf0oIWcvbxjA",
        "outputId": "7ac9eb8f-ca24-4c82-fc5c-1c944a9bf558"
      },
      "source": [
        "# Creating a 4x matrix, making sure to assign negative(-) values\n",
        "A = np.array([[1,-2,3,4],[3,4,-5,6],[6,7,8,-9],[9,-8,7,6]])\n",
        "print(A)"
      ],
      "execution_count": 76,
      "outputs": [
        {
          "output_type": "stream",
          "name": "stdout",
          "text": [
            "[[ 1 -2  3  4]\n",
            " [ 3  4 -5  6]\n",
            " [ 6  7  8 -9]\n",
            " [ 9 -8  7  6]]\n"
          ]
        }
      ]
    },
    {
      "cell_type": "markdown",
      "metadata": {
        "id": "q7Mu0gYucqzL"
      },
      "source": [
        "## INVERSE\n",
        "#### Getting the Inverse of the Matrix"
      ]
    },
    {
      "cell_type": "code",
      "metadata": {
        "colab": {
          "base_uri": "https://localhost:8080/"
        },
        "id": "Il5FersHYPZc",
        "outputId": "684de428-9481-4241-8a05-f1442b374427"
      },
      "source": [
        "# Getting the inverse of the 4x4 matrix\n",
        "A_inv = np.linalg.inv(a1)\n",
        "\n",
        "# Displaying the output\n",
        "print(\"Matrix: \\n\",A)\n",
        "print(\"Inverse: \\n\",A_inv)\n",
        "\n",
        "# Checking if the inverse is correct\n",
        "x = np.dot(A, A_inv) # This should creates an identity matrix\n",
        "y = np.array(x, dtype=int) # This cleans up the messy floating decimals\n",
        "print(\"Check: \\n\",y)"
      ],
      "execution_count": 77,
      "outputs": [
        {
          "output_type": "stream",
          "name": "stdout",
          "text": [
            "Matrix: \n",
            " [[ 1 -2  3  4]\n",
            " [ 3  4 -5  6]\n",
            " [ 6  7  8 -9]\n",
            " [ 9 -8  7  6]]\n",
            "Inverse: \n",
            " [[-0.18409091  0.06060606  0.02272727  0.09621212]\n",
            " [ 0.13977273  0.06818182  0.05681818 -0.07613636]\n",
            " [ 0.23181818 -0.04545455  0.04545455 -0.04090909]\n",
            " [ 0.19204545  0.0530303  -0.01136364 -0.03143939]]\n",
            "Check: \n",
            " [[1 0 0 0]\n",
            " [0 1 0 0]\n",
            " [0 0 1 0]\n",
            " [0 0 0 1]]\n"
          ]
        }
      ]
    },
    {
      "cell_type": "markdown",
      "metadata": {
        "id": "FSUUYp_3csxh"
      },
      "source": [
        "## TRANSPOSE\n",
        "#### Getting the Transposed Matrix"
      ]
    },
    {
      "cell_type": "code",
      "metadata": {
        "colab": {
          "base_uri": "https://localhost:8080/"
        },
        "id": "qcDVaMHbcMHJ",
        "outputId": "99d984c9-2b9b-4dae-838b-ee53e19a68c4"
      },
      "source": [
        "# Getting the transposition of the 4x4 Matrix\n",
        "A_trans = np.transpose(a1)\n",
        "\n",
        "# Displaying the output\n",
        "print(\"Matrix: \\n\",A)\n",
        "print(\"Transposed: \\n\",A_trans)"
      ],
      "execution_count": 78,
      "outputs": [
        {
          "output_type": "stream",
          "name": "stdout",
          "text": [
            "Matrix: \n",
            " [[ 1 -2  3  4]\n",
            " [ 3  4 -5  6]\n",
            " [ 6  7  8 -9]\n",
            " [ 9 -8  7  6]]\n",
            "Transposed: \n",
            " [[ 1  3  6  9]\n",
            " [-2  4  7 -8]\n",
            " [ 3 -5  8  7]\n",
            " [ 4  6 -9  6]]\n"
          ]
        }
      ]
    }
  ]
}