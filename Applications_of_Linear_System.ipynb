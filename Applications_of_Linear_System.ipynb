{
  "nbformat": 4,
  "nbformat_minor": 0,
  "metadata": {
    "colab": {
      "name": "Applications of Linear System.ipynb",
      "provenance": [],
      "authorship_tag": "ABX9TyNbE6IVcnaqFlKj9WVPUJtH",
      "include_colab_link": true
    },
    "kernelspec": {
      "name": "python3",
      "display_name": "Python 3"
    },
    "language_info": {
      "name": "python"
    }
  },
  "cells": [
    {
      "cell_type": "markdown",
      "metadata": {
        "id": "view-in-github",
        "colab_type": "text"
      },
      "source": [
        "<a href=\"https://colab.research.google.com/github/AloysiusButacAdu/Linear-Algebra-58020/blob/main/Applications_of_Linear_System.ipynb\" target=\"_parent\"><img src=\"https://colab.research.google.com/assets/colab-badge.svg\" alt=\"Open In Colab\"/></a>"
      ]
    },
    {
      "cell_type": "code",
      "metadata": {
        "id": "8zfiuWzpfnn1"
      },
      "source": [
        "from scipy.linalg import solve\n",
        "import numpy as np"
      ],
      "execution_count": 18,
      "outputs": []
    },
    {
      "cell_type": "markdown",
      "metadata": {
        "id": "sG-KXMNIgFJw"
      },
      "source": [
        "# Systems of Linear Equations\n"
      ]
    },
    {
      "cell_type": "markdown",
      "metadata": {
        "id": "y_MUEUmUgJKE"
      },
      "source": [
        "## Systems of Linear Equations can be solved with arrays and NumPy"
      ]
    },
    {
      "cell_type": "code",
      "metadata": {
        "colab": {
          "base_uri": "https://localhost:8080/"
        },
        "id": "JDaRJY9vgL94",
        "outputId": "4896f92e-e087-40b2-bd59-28f96536d0f2"
      },
      "source": [
        "## Createing matices\n",
        "A = np.array([[4,5],[3,-2]])\n",
        "print(A)\n",
        "B = np.array([[7],[11]])\n",
        "print(B)"
      ],
      "execution_count": 5,
      "outputs": [
        {
          "output_type": "stream",
          "name": "stdout",
          "text": [
            "[[ 4  5]\n",
            " [ 3 -2]]\n",
            "[[ 7]\n",
            " [11]]\n"
          ]
        }
      ]
    },
    {
      "cell_type": "code",
      "metadata": {
        "colab": {
          "base_uri": "https://localhost:8080/"
        },
        "id": "1rLuKxmUgSMz",
        "outputId": "dce0e1d6-eab5-4082-f3ab-54f2296ac3ea"
      },
      "source": [
        "## Solve\n",
        "X=np.linalg.inv(A).dot(B)\n",
        "print(X)"
      ],
      "execution_count": 13,
      "outputs": [
        {
          "output_type": "stream",
          "name": "stdout",
          "text": [
            "[[ 3.]\n",
            " [-1.]]\n"
          ]
        }
      ]
    },
    {
      "cell_type": "code",
      "metadata": {
        "colab": {
          "base_uri": "https://localhost:8080/"
        },
        "id": "XkkwvXaOgkg0",
        "outputId": "2ee43ab0-797e-4d92-dd35-b26860f7b845"
      },
      "source": [
        "## using numpy inv\n",
        "inv_A = np.linalg.inv(A)\n",
        "print(inv_A)"
      ],
      "execution_count": 12,
      "outputs": [
        {
          "output_type": "stream",
          "name": "stdout",
          "text": [
            "[[ 0.08695652  0.2173913 ]\n",
            " [ 0.13043478 -0.17391304]]\n"
          ]
        }
      ]
    },
    {
      "cell_type": "code",
      "metadata": {
        "colab": {
          "base_uri": "https://localhost:8080/"
        },
        "id": "JTL6J5r7glKU",
        "outputId": "40560c8b-8bf6-4f84-8efb-a866d2af319c"
      },
      "source": [
        "## Getting dot product to solve\n",
        "X = np.dot(inv_A,B)\n",
        "print(X)"
      ],
      "execution_count": 14,
      "outputs": [
        {
          "output_type": "stream",
          "name": "stdout",
          "text": [
            "[[ 3.]\n",
            " [-1.]]\n"
          ]
        }
      ]
    },
    {
      "cell_type": "code",
      "metadata": {
        "colab": {
          "base_uri": "https://localhost:8080/"
        },
        "id": "24VE23cmgrh8",
        "outputId": "2f5aef1c-417c-465a-e16b-f89b4aa87e47"
      },
      "source": [
        "## Using numpy solve\n",
        "X = np.linalg.solve(A,B)\n",
        "print(X)"
      ],
      "execution_count": 15,
      "outputs": [
        {
          "output_type": "stream",
          "name": "stdout",
          "text": [
            "[[ 3.]\n",
            " [-1.]]\n"
          ]
        }
      ]
    },
    {
      "cell_type": "code",
      "metadata": {
        "colab": {
          "base_uri": "https://localhost:8080/"
        },
        "id": "SOYR2jvygsKr",
        "outputId": "eaa3d9e2-baab-4291-deda-e6decfe06b84"
      },
      "source": [
        "## Using Scipy solve\n",
        "X = solve(A,B)\n",
        "print(X)"
      ],
      "execution_count": 16,
      "outputs": [
        {
          "output_type": "stream",
          "name": "stdout",
          "text": [
            "[[ 3.]\n",
            " [-1.]]\n"
          ]
        }
      ]
    }
  ]
}