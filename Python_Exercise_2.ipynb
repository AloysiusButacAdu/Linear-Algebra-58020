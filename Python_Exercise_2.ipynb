{
  "nbformat": 4,
  "nbformat_minor": 0,
  "metadata": {
    "colab": {
      "name": "Python_Exercise_2.ipynb",
      "provenance": [],
      "collapsed_sections": [],
      "authorship_tag": "ABX9TyMTLPohcCfpBxTVetO4QhK3",
      "include_colab_link": true
    },
    "kernelspec": {
      "name": "python3",
      "display_name": "Python 3"
    },
    "language_info": {
      "name": "python"
    }
  },
  "cells": [
    {
      "cell_type": "markdown",
      "metadata": {
        "id": "view-in-github",
        "colab_type": "text"
      },
      "source": [
        "<a href=\"https://colab.research.google.com/github/AloysiusButacAdu/Linear-Algebra-58020/blob/main/Python_Exercise_2.ipynb\" target=\"_parent\"><img src=\"https://colab.research.google.com/assets/colab-badge.svg\" alt=\"Open In Colab\"/></a>"
      ]
    },
    {
      "cell_type": "markdown",
      "metadata": {
        "id": "U3H0tD1x5UlA"
      },
      "source": [
        "# Vector Spaces and its Operation\n"
      ]
    },
    {
      "cell_type": "code",
      "metadata": {
        "id": "tKWga_JS4yVK"
      },
      "source": [
        "import numpy as np"
      ],
      "execution_count": 1,
      "outputs": []
    },
    {
      "cell_type": "code",
      "metadata": {
        "id": "NTyFY9dO42me"
      },
      "source": [
        "A = np.array([4,3])\n",
        "B = np.array([2,-5])"
      ],
      "execution_count": 2,
      "outputs": []
    },
    {
      "cell_type": "code",
      "metadata": {
        "colab": {
          "base_uri": "https://localhost:8080/"
        },
        "id": "hntkZZkw47QS",
        "outputId": "37b2c262-91ac-4654-eb3a-8cdd0d851e03"
      },
      "source": [
        "print('Vector A is ', A)\n",
        "print('Vector b is ', B)"
      ],
      "execution_count": 4,
      "outputs": [
        {
          "output_type": "stream",
          "name": "stdout",
          "text": [
            "Vector A is  [4 3]\n",
            "Vector b is  [ 2 -5]\n"
          ]
        }
      ]
    },
    {
      "cell_type": "markdown",
      "metadata": {
        "id": "XVwdHltG6KC9"
      },
      "source": [
        "## Vector Size, Dimension, and shape"
      ]
    },
    {
      "cell_type": "code",
      "metadata": {
        "colab": {
          "base_uri": "https://localhost:8080/"
        },
        "id": "y7u_yrOE6KYI",
        "outputId": "4695a887-321a-48a4-cc01-b1601798c453"
      },
      "source": [
        "ball1 = np.array([1,2,3])\n",
        "ball2 = np.array([0,1,-1])\n",
        "\n",
        "pool = np.array([ball1, ball2])\n",
        "print(\"Shape: \",pool.shape)\n",
        "print(\"Size: \",pool.size)\n",
        "print(\"Dimension: \",pool.ndim)\n",
        "print(\"Matrix: \\n\",pool)"
      ],
      "execution_count": 16,
      "outputs": [
        {
          "output_type": "stream",
          "name": "stdout",
          "text": [
            "Shape:  (2, 3)\n",
            "Size:  6\n",
            "Dimension:  2\n",
            "Matrix: \n",
            " [[ 1  2  3]\n",
            " [ 0  1 -1]]\n"
          ]
        }
      ]
    },
    {
      "cell_type": "markdown",
      "metadata": {
        "id": "D-lzgnbvAq_n"
      },
      "source": [
        "## Vector Operations\n"
      ]
    },
    {
      "cell_type": "code",
      "metadata": {
        "colab": {
          "base_uri": "https://localhost:8080/"
        },
        "id": "iHtka4UR-t7W",
        "outputId": "f210527e-a44e-4138-adbe-7ed380f46772"
      },
      "source": [
        "R = A +  B\n",
        "R"
      ],
      "execution_count": 18,
      "outputs": [
        {
          "output_type": "execute_result",
          "data": {
            "text/plain": [
              "array([ 6, -2])"
            ]
          },
          "metadata": {},
          "execution_count": 18
        }
      ]
    },
    {
      "cell_type": "code",
      "metadata": {
        "colab": {
          "base_uri": "https://localhost:8080/"
        },
        "id": "WYoe-twQ_DSB",
        "outputId": "95b48f04-7934-427a-c70d-0502d8d688c3"
      },
      "source": [
        "R = np.add(A,B)\n",
        "R"
      ],
      "execution_count": 21,
      "outputs": [
        {
          "output_type": "execute_result",
          "data": {
            "text/plain": [
              "array([ 6, -2])"
            ]
          },
          "metadata": {},
          "execution_count": 21
        }
      ]
    },
    {
      "cell_type": "code",
      "metadata": {
        "colab": {
          "base_uri": "https://localhost:8080/"
        },
        "id": "QGibzyZc_aAN",
        "outputId": "160e5ec3-20f5-46c0-90cb-97b9eeae21e1"
      },
      "source": [
        "R = np.subtract(A,B)\n",
        "R"
      ],
      "execution_count": 23,
      "outputs": [
        {
          "output_type": "execute_result",
          "data": {
            "text/plain": [
              "array([2, 8])"
            ]
          },
          "metadata": {},
          "execution_count": 23
        }
      ]
    },
    {
      "cell_type": "markdown",
      "metadata": {
        "id": "0lDSZQsjA-4s"
      },
      "source": [
        "## Vector Scaling"
      ]
    },
    {
      "cell_type": "code",
      "metadata": {
        "colab": {
          "base_uri": "https://localhost:8080/"
        },
        "id": "qqYx3hqgBBMB",
        "outputId": "4e0bdd23-b9e4-4a42-8800-d54dce1f2e6a"
      },
      "source": [
        "A = np.array([1,5,8,9])\n",
        "S = 5 * A\n",
        "print(\"5 *\",A)\n",
        "print(S)"
      ],
      "execution_count": 28,
      "outputs": [
        {
          "output_type": "stream",
          "name": "stdout",
          "text": [
            "5 * [1 5 8 9]\n",
            "[ 5 25 40 45]\n"
          ]
        }
      ]
    },
    {
      "cell_type": "code",
      "metadata": {
        "colab": {
          "base_uri": "https://localhost:8080/"
        },
        "id": "nU9qHCrqBELO",
        "outputId": "85c30bae-f297-46aa-e959-212d901751b2"
      },
      "source": [
        "S = np.multiply(5,A)\n",
        "S"
      ],
      "execution_count": 31,
      "outputs": [
        {
          "output_type": "execute_result",
          "data": {
            "text/plain": [
              "array([ 5, 25, 40, 45])"
            ]
          },
          "metadata": {},
          "execution_count": 31
        }
      ]
    },
    {
      "cell_type": "markdown",
      "metadata": {
        "id": "gZo-TawLCkA2"
      },
      "source": [
        "## Vector Cross Product"
      ]
    },
    {
      "cell_type": "code",
      "metadata": {
        "colab": {
          "base_uri": "https://localhost:8080/"
        },
        "id": "PQCpxVINCHSO",
        "outputId": "30c81188-bc74-4c39-ce4d-2e87c5ce54bb"
      },
      "source": [
        "#initialize arrays\n",
        "A = np.array([2,7])\n",
        "B = np.array([1,7])\n",
        "\n",
        "#computefor the cross product\n",
        "output = np.cross(A,B)\n",
        "\n",
        "print(\"A:\",A,\"\\tB:\",B)\n",
        "print(output)"
      ],
      "execution_count": 41,
      "outputs": [
        {
          "output_type": "stream",
          "name": "stdout",
          "text": [
            "A: [2 7] \tB: [1 7]\n",
            "7\n"
          ]
        }
      ]
    },
    {
      "cell_type": "markdown",
      "metadata": {
        "id": "5fYzY2fqEDRh"
      },
      "source": [
        "## Vector Dot Product"
      ]
    },
    {
      "cell_type": "code",
      "metadata": {
        "colab": {
          "base_uri": "https://localhost:8080/"
        },
        "id": "ucqanco3DTNF",
        "outputId": "6e61595d-b89b-442c-d1c3-43346904966a"
      },
      "source": [
        "output = np.dot(A,B)\n",
        "output"
      ],
      "execution_count": 42,
      "outputs": [
        {
          "output_type": "execute_result",
          "data": {
            "text/plain": [
              "51"
            ]
          },
          "metadata": {},
          "execution_count": 42
        }
      ]
    }
  ]
}