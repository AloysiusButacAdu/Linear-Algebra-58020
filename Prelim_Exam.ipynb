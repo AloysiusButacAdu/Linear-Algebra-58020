{
  "nbformat": 4,
  "nbformat_minor": 0,
  "metadata": {
    "colab": {
      "name": "Prelim Exam.ipynb",
      "provenance": [],
      "authorship_tag": "ABX9TyOUuI4fZzugmgfL84YGntw6",
      "include_colab_link": true
    },
    "kernelspec": {
      "name": "python3",
      "display_name": "Python 3"
    },
    "language_info": {
      "name": "python"
    }
  },
  "cells": [
    {
      "cell_type": "markdown",
      "metadata": {
        "id": "view-in-github",
        "colab_type": "text"
      },
      "source": [
        "<a href=\"https://colab.research.google.com/github/AloysiusButacAdu/Linear-Algebra-58020/blob/main/Prelim_Exam.ipynb\" target=\"_parent\"><img src=\"https://colab.research.google.com/assets/colab-badge.svg\" alt=\"Open In Colab\"/></a>"
      ]
    },
    {
      "cell_type": "code",
      "metadata": {
        "id": "xcUR654shV0-"
      },
      "source": [
        "import numpy as np"
      ],
      "execution_count": 1,
      "outputs": []
    },
    {
      "cell_type": "markdown",
      "metadata": {
        "id": "1s-CuAnEhRjz"
      },
      "source": [
        "# Question 1"
      ]
    },
    {
      "cell_type": "code",
      "metadata": {
        "colab": {
          "base_uri": "https://localhost:8080/"
        },
        "id": "a8z2VmLJg8Eu",
        "outputId": "587ee577-5638-4411-c812-eb6f8620a6a9"
      },
      "source": [
        "# Creating a 4 x 4 matrix\n",
        "# a parameter dtype in defined to clean decimal points in the output\n",
        "C = np.zeros([4,4], dtype=int) \n",
        "\n",
        "# Filling in matrix's diagonals with the value 1\n",
        "np.fill_diagonal(C, 1) \n",
        "\n",
        "# printing the output\n",
        "print(C)"
      ],
      "execution_count": 38,
      "outputs": [
        {
          "output_type": "stream",
          "name": "stdout",
          "text": [
            "[[1 0 0 0]\n",
            " [0 1 0 0]\n",
            " [0 0 1 0]\n",
            " [0 0 0 1]]\n"
          ]
        }
      ]
    },
    {
      "cell_type": "markdown",
      "metadata": {
        "id": "MtpWS8VCjL61"
      },
      "source": [
        "# Question 2"
      ]
    },
    {
      "cell_type": "code",
      "metadata": {
        "colab": {
          "base_uri": "https://localhost:8080/"
        },
        "id": "tDqFQm-RjNQ9",
        "outputId": "7c169621-96cf-44b4-9caa-a355727647be"
      },
      "source": [
        "# SOLUTION 01\n",
        "## Multiplying matrix C by 2 with * operator\n",
        "## This is the same as C = C * 2\n",
        "C *= 2                \n",
        "\n",
        "print(\"using C *= 2: \\n\", C)\n",
        "\n",
        "# SOLUTION 02\n",
        "## Multiplying matrix C by 2 with the multiply() function\n",
        "np.multiply(2, C)\n",
        "\n",
        "print(\"\\nusing np.multiply(2, C):\\n\", C)"
      ],
      "execution_count": 39,
      "outputs": [
        {
          "output_type": "stream",
          "name": "stdout",
          "text": [
            "using C *= 2: \n",
            " [[2 0 0 0]\n",
            " [0 2 0 0]\n",
            " [0 0 2 0]\n",
            " [0 0 0 2]]\n",
            "\n",
            "using np.multiply(2, C):\n",
            " [[2 0 0 0]\n",
            " [0 2 0 0]\n",
            " [0 0 2 0]\n",
            " [0 0 0 2]]\n"
          ]
        }
      ]
    },
    {
      "cell_type": "markdown",
      "metadata": {
        "id": "fVK5P7ujjX3v"
      },
      "source": [
        "# Question 3"
      ]
    },
    {
      "cell_type": "code",
      "metadata": {
        "colab": {
          "base_uri": "https://localhost:8080/"
        },
        "id": "HPwFuk5DjaB5",
        "outputId": "4825babb-2f8b-4223-d14f-9a1532b7dd8e"
      },
      "source": [
        "# Defining matrices 'A' and 'B'\n",
        "A = np.array([2,7,4])\n",
        "B = np.array([3,9,8])\n",
        "\n",
        "# Assigning the dotproduct of A and B to variable 'output'\n",
        "output = np.dot(A, B)\n",
        "\n",
        "# Printing output\n",
        "print(output)"
      ],
      "execution_count": 40,
      "outputs": [
        {
          "output_type": "stream",
          "name": "stdout",
          "text": [
            "101\n"
          ]
        }
      ]
    }
  ]
}