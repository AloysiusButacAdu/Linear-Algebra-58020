{
  "nbformat": 4,
  "nbformat_minor": 0,
  "metadata": {
    "colab": {
      "name": "Eigenvalue and Eigenvector.ipynb",
      "provenance": [],
      "collapsed_sections": [],
      "authorship_tag": "ABX9TyNCLxhJpTv6KVSVqG5CYbxk",
      "include_colab_link": true
    },
    "kernelspec": {
      "name": "python3",
      "display_name": "Python 3"
    },
    "language_info": {
      "name": "python"
    }
  },
  "cells": [
    {
      "cell_type": "markdown",
      "metadata": {
        "id": "view-in-github",
        "colab_type": "text"
      },
      "source": [
        "<a href=\"https://colab.research.google.com/github/AloysiusButacAdu/Linear-Algebra-58020/blob/main/Eigenvalue_and_Eigenvector.ipynb\" target=\"_parent\"><img src=\"https://colab.research.google.com/assets/colab-badge.svg\" alt=\"Open In Colab\"/></a>"
      ]
    },
    {
      "cell_type": "code",
      "metadata": {
        "id": "UlHq1jeqk5rx"
      },
      "source": [
        "import numpy as np\n",
        "\n",
        "from numpy.linalg import eig"
      ],
      "execution_count": 34,
      "outputs": []
    },
    {
      "cell_type": "code",
      "metadata": {
        "colab": {
          "base_uri": "https://localhost:8080/"
        },
        "id": "xEQuD_KylTc_",
        "outputId": "485799a8-2170-40a2-f26b-4733b4b3273d"
      },
      "source": [
        "## Define Matrices\n",
        "A = np.array([[-12, 3], [4, 1]])\n",
        "inv_A = np.linalg.inv(A)\n",
        "\n",
        "B = np.array([0, 0])\n",
        "\n",
        "## Solve\n",
        "X = np.linalg.solve(A, B)\n",
        "print(X)\n",
        "\n",
        "X = np.dot(inv_A, B)\n",
        "print(X)"
      ],
      "execution_count": 50,
      "outputs": [
        {
          "output_type": "stream",
          "name": "stdout",
          "text": [
            "[-0.  0.]\n",
            "[0. 0.]\n"
          ]
        }
      ]
    },
    {
      "cell_type": "code",
      "metadata": {
        "colab": {
          "base_uri": "https://localhost:8080/"
        },
        "id": "mzd5x0YglrJI",
        "outputId": "aa3ba2ac-d96a-474d-e792-3ceac08ec95d"
      },
      "source": [
        "## Define Matrix A\n",
        "A = np.array([[-6, 3], [4, 5]])\n",
        "print(\"Vector A:\\n\", A)\n",
        "\n",
        "## Solve for eigenvalues and eigenvectors\n",
        "w, v = eig(A)\n",
        "# v = v.round()\n",
        "print(\"Eigenvalues:\\n\", w)\n",
        "print(\"Eigenvectors:\\n\", v)"
      ],
      "execution_count": 51,
      "outputs": [
        {
          "output_type": "stream",
          "name": "stdout",
          "text": [
            "Vector A:\n",
            " [[-6  3]\n",
            " [ 4  5]]\n",
            "Eigenvalues:\n",
            " [-7.  6.]\n",
            "Eigenvectors:\n",
            " [[-0.9486833  -0.24253563]\n",
            " [ 0.31622777 -0.9701425 ]]\n"
          ]
        }
      ]
    },
    {
      "cell_type": "markdown",
      "metadata": {
        "id": "1IwhA7FTtNfH"
      },
      "source": [
        "#Example 2"
      ]
    },
    {
      "cell_type": "code",
      "metadata": {
        "colab": {
          "base_uri": "https://localhost:8080/"
        },
        "id": "lWWtzLTYtMB6",
        "outputId": "50674f71-57b9-4594-9764-d203f2d0de72"
      },
      "source": [
        "## Define Matrix A\n",
        "A = np.array([[2, 2, 4], [1, 3, 5], [2, 3, 4]])\n",
        "\n",
        "## Solve for eigenvalues and eigenvectors\n",
        "w, v = eig(A)\n",
        "print(\"Eigenvalues:\\n\", w)\n",
        "print(\"Eigenvectors:\\n\", v)\n",
        "w = w.round()\n",
        "v = v.round()\n",
        "print(\"Eigenvalues:\\n\", w)\n",
        "print(\"Eigenvectors (1):\\n\", v)\n",
        "\n",
        "c = np.dot(A ,v)\n",
        "print(c)\n"
      ],
      "execution_count": 64,
      "outputs": [
        {
          "output_type": "stream",
          "name": "stdout",
          "text": [
            "Eigenvalues:\n",
            " [ 8.80916362  0.92620912 -0.73537273]\n",
            "Eigenvectors:\n",
            " [[-0.52799324 -0.77557092 -0.36272811]\n",
            " [-0.604391    0.62277013 -0.7103262 ]\n",
            " [-0.59660259 -0.10318482  0.60321224]]\n",
            "Eigenvalues:\n",
            " [ 9.  1. -1.]\n",
            "Eigenvectors (1):\n",
            " [[-1. -1. -0.]\n",
            " [-1.  1. -1.]\n",
            " [-1. -0.  1.]]\n",
            "[[-8.  0.  2.]\n",
            " [-9.  2.  2.]\n",
            " [-9.  1.  1.]]\n"
          ]
        }
      ]
    }
  ]
}