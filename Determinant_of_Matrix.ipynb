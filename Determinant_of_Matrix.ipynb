{
  "nbformat": 4,
  "nbformat_minor": 0,
  "metadata": {
    "colab": {
      "name": "Determinant of Matrix.ipynb",
      "provenance": [],
      "authorship_tag": "ABX9TyPipTuF7ReM94n0MZnbl01l",
      "include_colab_link": true
    },
    "kernelspec": {
      "name": "python3",
      "display_name": "Python 3"
    },
    "language_info": {
      "name": "python"
    }
  },
  "cells": [
    {
      "cell_type": "markdown",
      "metadata": {
        "id": "view-in-github",
        "colab_type": "text"
      },
      "source": [
        "<a href=\"https://colab.research.google.com/github/AloysiusButacAdu/Linear-Algebra-58020/blob/main/Determinant_of_Matrix.ipynb\" target=\"_parent\"><img src=\"https://colab.research.google.com/assets/colab-badge.svg\" alt=\"Open In Colab\"/></a>"
      ]
    },
    {
      "cell_type": "code",
      "metadata": {
        "id": "Aqt33xNbSIPi"
      },
      "source": [
        "import numpy as np"
      ],
      "execution_count": 1,
      "outputs": []
    },
    {
      "cell_type": "markdown",
      "metadata": {
        "id": "-8bcyS1zZXhT"
      },
      "source": [
        "# ASSESSMENT"
      ]
    },
    {
      "cell_type": "code",
      "metadata": {
        "colab": {
          "base_uri": "https://localhost:8080/"
        },
        "id": "e5yUu-2DSPKd",
        "outputId": "6abb5e81-dc50-4a2d-9a08-a0e229181c08"
      },
      "source": [
        "A = np.array([[1, 2, -1], [4, 6, -2], [-1, 3, 3]])\n",
        "print(A)\n",
        "print(np.linalg.det(A))\n",
        "print(round(np.linalg.det(A)))"
      ],
      "execution_count": 5,
      "outputs": [
        {
          "output_type": "stream",
          "name": "stdout",
          "text": [
            "[[ 1  2 -1]\n",
            " [ 4  6 -2]\n",
            " [-1  3  3]]\n",
            "-13.999999999999996\n",
            "-14\n"
          ]
        }
      ]
    }
  ]
}