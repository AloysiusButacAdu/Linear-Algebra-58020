{
  "nbformat": 4,
  "nbformat_minor": 0,
  "metadata": {
    "colab": {
      "name": "Copy of Midterm Exam.ipynb",
      "provenance": [],
      "collapsed_sections": [],
      "authorship_tag": "ABX9TyPZkcPBVZq//YqHse/veXYk",
      "include_colab_link": true
    },
    "kernelspec": {
      "name": "python3",
      "display_name": "Python 3"
    },
    "language_info": {
      "name": "python"
    }
  },
  "cells": [
    {
      "cell_type": "markdown",
      "metadata": {
        "id": "view-in-github",
        "colab_type": "text"
      },
      "source": [
        "<a href=\"https://colab.research.google.com/github/AloysiusButacAdu/Linear-Algebra-58020/blob/main/Midterm_Exam.ipynb\" target=\"_parent\"><img src=\"https://colab.research.google.com/assets/colab-badge.svg\" alt=\"Open In Colab\"/></a>"
      ]
    },
    {
      "cell_type": "markdown",
      "metadata": {
        "id": "9vRpkJ3y55XQ"
      },
      "source": [
        "# Midterm Exam"
      ]
    },
    {
      "cell_type": "code",
      "metadata": {
        "id": "HIsV41ly6gWP"
      },
      "source": [
        "import numpy as np"
      ],
      "execution_count": null,
      "outputs": []
    },
    {
      "cell_type": "markdown",
      "metadata": {
        "id": "8LQOShEE5_Cb"
      },
      "source": [
        "## Question 1\n",
        " Create a Python code that displays a square matrix whose length is 5 "
      ]
    },
    {
      "cell_type": "code",
      "metadata": {
        "colab": {
          "base_uri": "https://localhost:8080/"
        },
        "id": "fsvlrMHO6fkJ",
        "outputId": "87fffee9-3e77-4624-dd0f-8e2d936f48f6"
      },
      "source": [
        "## Creating a 5x5 matrix\n",
        "matrix = np.array([[1, 2, 3, 4, 5],\n",
        "                   [2, 1, 5, 4 ,3],\n",
        "                   [5, 2, 3, 4, 1],\n",
        "                   [5, 4, 1, 2, 3],\n",
        "                   [4, 5, 3, 2, 1]])\n",
        "## Printing the matrix\n",
        "print(matrix)\n",
        "## Printing its shape and size\n",
        "print(\"matrix shape: \", matrix.shape)\n",
        "print(\"matrix size: \", matrix.size)"
      ],
      "execution_count": null,
      "outputs": [
        {
          "output_type": "stream",
          "name": "stdout",
          "text": [
            "[[1 2 3 4 5]\n",
            " [2 1 5 4 3]\n",
            " [5 2 3 4 1]\n",
            " [5 4 1 2 3]\n",
            " [4 5 3 2 1]]\n",
            "matrix shape:  (5, 5)\n",
            "matrix size:  25\n"
          ]
        }
      ]
    },
    {
      "cell_type": "markdown",
      "metadata": {
        "id": "5QGL0Ba16F7m"
      },
      "source": [
        "## Question 2\n",
        "Create a Python code that displays a square matrix whose elements below the principal diagonal are zero \n",
        "\n",
        "\n"
      ]
    },
    {
      "cell_type": "code",
      "metadata": {
        "colab": {
          "base_uri": "https://localhost:8080/"
        },
        "id": "WHEc819d60AZ",
        "outputId": "cc4f89ff-4ae4-4754-9be5-067e85d93606"
      },
      "source": [
        "## Creating a matrix\n",
        "matrix = np.ones([4, 4], dtype=int);\n",
        "## Making elements below the principle diagonal zero\n",
        "matrix = np.triu(matrix)\n",
        "\n",
        "## Printing the matrix\n",
        "print(matrix)"
      ],
      "execution_count": null,
      "outputs": [
        {
          "output_type": "stream",
          "name": "stdout",
          "text": [
            "[[1 1 1 1]\n",
            " [0 1 1 1]\n",
            " [0 0 1 1]\n",
            " [0 0 0 1]]\n"
          ]
        }
      ]
    },
    {
      "cell_type": "markdown",
      "metadata": {
        "id": "qojaUtnD6GJM"
      },
      "source": [
        "## Question 3\n",
        "Create a Python code that displays a square matrix which is symmetrical"
      ]
    },
    {
      "cell_type": "code",
      "metadata": {
        "colab": {
          "base_uri": "https://localhost:8080/"
        },
        "id": "J5PbBJ0x71CD",
        "outputId": "ab8c0800-9d2d-43ee-91ed-58c55306c1e7"
      },
      "source": [
        "##  Create matrix\n",
        "matrix = np.array([[1, 2, 3, 4],\n",
        "                   [2, 6, 7, 8],\n",
        "                   [3, 7, 9, 5],\n",
        "                   [4, 8, 5, 10]])\n",
        "\n",
        "## Print matrix\n",
        "print(matrix)"
      ],
      "execution_count": null,
      "outputs": [
        {
          "output_type": "stream",
          "name": "stdout",
          "text": [
            "[[ 1  2  3  4]\n",
            " [ 2  6  7  8]\n",
            " [ 3  7  9  5]\n",
            " [ 4  8  5 10]]\n"
          ]
        }
      ]
    },
    {
      "cell_type": "markdown",
      "metadata": {
        "id": "n1eoC9RH6HOJ"
      },
      "source": [
        "## Question 4\n",
        "What is the inverse of matrix C? Show your solution by python coding.\n",
        "\n",
        "![2.PNG](data:image/png;base64,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)"
      ]
    },
    {
      "cell_type": "code",
      "metadata": {
        "colab": {
          "base_uri": "https://localhost:8080/"
        },
        "id": "vCyTMhxY83No",
        "outputId": "5809ab58-e63d-4c0c-fd4d-9343091352e7"
      },
      "source": [
        "## Create matrix C\n",
        "C = np.array([[1, 2, 3], \n",
        "             [2, 3, 3],\n",
        "             [3, 4, -2]])\n",
        "\n",
        "## Get the inverse of the matix C\n",
        "C_inv = np.linalg.inv(C)\n",
        "## Print inverse of matrix C\n",
        "print(C_inv)"
      ],
      "execution_count": null,
      "outputs": [
        {
          "output_type": "stream",
          "name": "stdout",
          "text": [
            "[[-3.6  3.2 -0.6]\n",
            " [ 2.6 -2.2  0.6]\n",
            " [-0.2  0.4 -0.2]]\n"
          ]
        }
      ]
    },
    {
      "cell_type": "markdown",
      "metadata": {
        "id": "vOjE9YCO6HSS"
      },
      "source": [
        "## Question 5\n",
        "What is the determinant of the given matrix in Question 4? Show your solution by python coding. "
      ]
    },
    {
      "cell_type": "code",
      "metadata": {
        "colab": {
          "base_uri": "https://localhost:8080/"
        },
        "id": "5w1MNrxU90sj",
        "outputId": "79f6a16e-8eb6-4d13-b163-b9906fe993fc"
      },
      "source": [
        "## Get the determinante of matrix C\n",
        "C_det = np.linalg.det(C)\n",
        "\n",
        "## Print the determinant\n",
        "print(int(C_det)) ## casted to int to clean up loose floating points"
      ],
      "execution_count": null,
      "outputs": [
        {
          "output_type": "stream",
          "name": "stdout",
          "text": [
            "5\n"
          ]
        }
      ]
    },
    {
      "cell_type": "markdown",
      "metadata": {
        "id": "AS73JWQA6HWj"
      },
      "source": [
        "## Question 6\n",
        "\n",
        "Find the roots of the linear equations by showing its python codes (30 points)\n",
        "\n",
        "5X1 + 4X2 + X3 = 3.4\n",
        "\n",
        "10X1 + 9X2 + 4X3 = 8.8\n",
        "\n",
        "10X1 + 13X2 + 15X3 = 19.2"
      ]
    },
    {
      "cell_type": "code",
      "metadata": {
        "colab": {
          "base_uri": "https://localhost:8080/"
        },
        "id": "BELOWgB9-ISx",
        "outputId": "54d7d6b8-b08f-4060-a127-5fdacf739b0a"
      },
      "source": [
        "## Creating the matrix\n",
        "A = np.array([[5, 4, 1],\n",
        "              [10, 9, 4],\n",
        "              [10, 13, 15]])\n",
        "B = np.array([[3.4], [8.8], [19.2]])\n",
        "\n",
        "## Getting the values of X\n",
        "X = np.linalg.solve(A, B)\n",
        "\n",
        "## Printing the values of x1, x2, & x3\n",
        "print(\"x1 = \", X[0])\n",
        "print(\"x2 = \", X[1])\n",
        "print(\"x3 = \", X[2])"
      ],
      "execution_count": null,
      "outputs": [
        {
          "output_type": "stream",
          "name": "stdout",
          "text": [
            "x1 =  [0.2]\n",
            "x2 =  [0.4]\n",
            "x3 =  [0.8]\n"
          ]
        }
      ]
    },
    {
      "cell_type": "code",
      "metadata": {
        "colab": {
          "base_uri": "https://localhost:8080/"
        },
        "id": "nDPkLBfPEjbk",
        "outputId": "b22edb7d-5f7a-4094-aacf-e6a6a9e1cd10"
      },
      "source": [
        "## Checking \n",
        "eq1 = 5*X[0] + 4*X[1] + X[2] == B[0]\n",
        "eq2 = 10*X[0] + 9*X[1] + 4*X[2] == B[1]\n",
        "eq3 = 10*X[0] + 13*X[1] + 15*X[2] == B[2]\n",
        "\n",
        "## All values should be true\n",
        "print(eq1)\n",
        "print(eq2)\n",
        "print(eq3)"
      ],
      "execution_count": null,
      "outputs": [
        {
          "output_type": "stream",
          "name": "stdout",
          "text": [
            "[ True]\n",
            "[ True]\n",
            "[ True]\n"
          ]
        }
      ]
    }
  ]
}