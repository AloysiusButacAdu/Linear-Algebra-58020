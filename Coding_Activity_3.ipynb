{
  "nbformat": 4,
  "nbformat_minor": 0,
  "metadata": {
    "colab": {
      "name": "Coding Activity 3.ipynb",
      "provenance": [],
      "collapsed_sections": [],
      "authorship_tag": "ABX9TyMidNki/XhdKVzP9ftFmXCJ",
      "include_colab_link": true
    },
    "kernelspec": {
      "name": "python3",
      "display_name": "Python 3"
    },
    "language_info": {
      "name": "python"
    }
  },
  "cells": [
    {
      "cell_type": "markdown",
      "metadata": {
        "id": "view-in-github",
        "colab_type": "text"
      },
      "source": [
        "<a href=\"https://colab.research.google.com/github/AloysiusButacAdu/Linear-Algebra-58020/blob/main/Coding_Activity_3.ipynb\" target=\"_parent\"><img src=\"https://colab.research.google.com/assets/colab-badge.svg\" alt=\"Open In Colab\"/></a>"
      ]
    },
    {
      "cell_type": "markdown",
      "metadata": {
        "id": "UrJsxMtxfRLe"
      },
      "source": [
        "# Coding Activity 3"
      ]
    },
    {
      "cell_type": "code",
      "metadata": {
        "id": "OLk_xVAdftDI"
      },
      "source": [
        "import numpy as np"
      ],
      "execution_count": 2,
      "outputs": []
    },
    {
      "cell_type": "markdown",
      "metadata": {
        "id": "OUl4f6MTfWHa"
      },
      "source": [
        "# **Transposing** and **Inversing** a 3x3 Matrix"
      ]
    },
    {
      "cell_type": "code",
      "metadata": {
        "colab": {
          "base_uri": "https://localhost:8080/"
        },
        "id": "Bc1WJoCqfT1z",
        "outputId": "479d3927-96ff-4d22-e259-1a9150c52205"
      },
      "source": [
        "# Creating a 3x3 Matrix\n",
        "A = np.array([[6,1,1],[4,-2,5],[2,8,7]])\n",
        "\n",
        "# Getting the Transposition of Martix A\n",
        "B = np.transpose(A)\n",
        "print(\"Matrix: \\n\", A)\n",
        "print(\"Transpose: \\n\", B)"
      ],
      "execution_count": 11,
      "outputs": [
        {
          "output_type": "stream",
          "name": "stdout",
          "text": [
            "Matrix: \n",
            " [[ 6  1  1]\n",
            " [ 4 -2  5]\n",
            " [ 2  8  7]]\n",
            "Transpose: \n",
            " [[ 6  4  2]\n",
            " [ 1 -2  8]\n",
            " [ 1  5  7]]\n"
          ]
        }
      ]
    },
    {
      "cell_type": "code",
      "metadata": {
        "colab": {
          "base_uri": "https://localhost:8080/"
        },
        "id": "HhWb1ebHfxL5",
        "outputId": "a9902ac9-82f9-4080-f1b6-f377f5e59310"
      },
      "source": [
        "# Creating a 3x3 Matrix\n",
        "C = np.array([[6,-1,1],[4,2,5],[2,8,-7]])\n",
        "\n",
        "# Getting the inverse of Matrix C\n",
        "D = np.linalg.inv(C)\n",
        "\n",
        "print(\"Matrix: \\n\",C)\n",
        "print(\"Inverse: \\n\",D)\n",
        "\n",
        "# Checking if D is the inverse of C\n",
        "m = np.dot(C, D) # This should creates an identity matrix\n",
        "n = np.array(m, dtype=int) # This cleans up the messy floating points\n",
        "print(\"Check: \\n\",n)"
      ],
      "execution_count": 12,
      "outputs": [
        {
          "output_type": "stream",
          "name": "stdout",
          "text": [
            "Matrix: \n",
            " [[ 6 -1  1]\n",
            " [ 4  2  5]\n",
            " [ 2  8 -7]]\n",
            "Inverse: \n",
            " [[ 0.16167665 -0.00299401  0.02095808]\n",
            " [-0.11377246  0.13173653  0.07784431]\n",
            " [-0.08383234  0.1497006  -0.04790419]]\n",
            "Check: \n",
            " [[1 0 0]\n",
            " [0 1 0]\n",
            " [0 0 1]]\n"
          ]
        }
      ]
    },
    {
      "cell_type": "markdown",
      "metadata": {
        "id": "Jl7toatMgA8X"
      },
      "source": [
        "#**Transposing** and **Inversing** a 4x4 Matrix"
      ]
    },
    {
      "cell_type": "code",
      "metadata": {
        "colab": {
          "base_uri": "https://localhost:8080/"
        },
        "id": "ierMi8P3gDuD",
        "outputId": "0d403803-1b61-4322-b5a6-bfe56b70ffd5"
      },
      "source": [
        "# Creating a 4x matrix, making sure to assign negative(-) values\n",
        "A = np.array([[1,-2,3,4],[3,4,-5,6],[6,7,8,-9],[9,-8,7,6]])\n",
        "print(A)"
      ],
      "execution_count": 13,
      "outputs": [
        {
          "output_type": "stream",
          "name": "stdout",
          "text": [
            "[[ 1 -2  3  4]\n",
            " [ 3  4 -5  6]\n",
            " [ 6  7  8 -9]\n",
            " [ 9 -8  7  6]]\n"
          ]
        }
      ]
    },
    {
      "cell_type": "markdown",
      "metadata": {
        "id": "hcI3V6u9gKgm"
      },
      "source": [
        "## INVERSE\n",
        "#### Getting the Inverse of the Matrix"
      ]
    },
    {
      "cell_type": "code",
      "metadata": {
        "colab": {
          "base_uri": "https://localhost:8080/"
        },
        "id": "K7yliXkygKsO",
        "outputId": "ece5924a-e355-44d3-ae2b-ec8719456889"
      },
      "source": [
        "# Getting the inverse of the 4x4 matrix\n",
        "A_inv = np.linalg.inv(A)\n",
        "\n",
        "# Displaying the output\n",
        "print(\"Matrix: \\n\",A)\n",
        "print(\"Inverse: \\n\",A_inv)\n",
        "\n",
        "# Checking if the inverse is correct\n",
        "x = np.dot(A, A_inv) # This should creates an identity matrix\n",
        "y = np.array(x, dtype=int) # This cleans up the messy floating decimals\n",
        "print(\"Check: \\n\",y)"
      ],
      "execution_count": 14,
      "outputs": [
        {
          "output_type": "stream",
          "name": "stdout",
          "text": [
            "Matrix: \n",
            " [[ 1 -2  3  4]\n",
            " [ 3  4 -5  6]\n",
            " [ 6  7  8 -9]\n",
            " [ 9 -8  7  6]]\n",
            "Inverse: \n",
            " [[-0.18409091  0.06060606  0.02272727  0.09621212]\n",
            " [ 0.13977273  0.06818182  0.05681818 -0.07613636]\n",
            " [ 0.23181818 -0.04545455  0.04545455 -0.04090909]\n",
            " [ 0.19204545  0.0530303  -0.01136364 -0.03143939]]\n",
            "Check: \n",
            " [[1 0 0 0]\n",
            " [0 1 0 0]\n",
            " [0 0 1 0]\n",
            " [0 0 0 1]]\n"
          ]
        }
      ]
    },
    {
      "cell_type": "markdown",
      "metadata": {
        "id": "c2ng4fFPgknp"
      },
      "source": [
        "## TRANSPOSE\n",
        "#### Getting the Transposed Matrix"
      ]
    },
    {
      "cell_type": "code",
      "metadata": {
        "colab": {
          "base_uri": "https://localhost:8080/"
        },
        "id": "PRBqO_VvgmQk",
        "outputId": "4afc36fe-3e69-44b0-ed96-d04f03a3402f"
      },
      "source": [
        "# Getting the transposition of the 4x4 Matrix\n",
        "A_trans = np.transpose(A)\n",
        "\n",
        "# Displaying the output\n",
        "print(\"Matrix: \\n\",A)\n",
        "print(\"Transposed: \\n\",A_trans)"
      ],
      "execution_count": 15,
      "outputs": [
        {
          "output_type": "stream",
          "name": "stdout",
          "text": [
            "Matrix: \n",
            " [[ 1 -2  3  4]\n",
            " [ 3  4 -5  6]\n",
            " [ 6  7  8 -9]\n",
            " [ 9 -8  7  6]]\n",
            "Transposed: \n",
            " [[ 1  3  6  9]\n",
            " [-2  4  7 -8]\n",
            " [ 3 -5  8  7]\n",
            " [ 4  6 -9  6]]\n"
          ]
        }
      ]
    }
  ]
}