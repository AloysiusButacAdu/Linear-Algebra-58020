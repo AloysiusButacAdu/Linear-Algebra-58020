{
  "nbformat": 4,
  "nbformat_minor": 0,
  "metadata": {
    "colab": {
      "name": "Final Exam.ipynb",
      "provenance": [],
      "authorship_tag": "ABX9TyOBkWitUiwG0z6ZOfIfBDJE",
      "include_colab_link": true
    },
    "kernelspec": {
      "name": "python3",
      "display_name": "Python 3"
    },
    "language_info": {
      "name": "python"
    }
  },
  "cells": [
    {
      "cell_type": "markdown",
      "metadata": {
        "id": "view-in-github",
        "colab_type": "text"
      },
      "source": [
        "<a href=\"https://colab.research.google.com/github/AloysiusButacAdu/Linear-Algebra-58020/blob/main/Final_Exam.ipynb\" target=\"_parent\"><img src=\"https://colab.research.google.com/assets/colab-badge.svg\" alt=\"Open In Colab\"/></a>"
      ]
    },
    {
      "cell_type": "markdown",
      "source": [
        "# Linear Algebra Finals Exam"
      ],
      "metadata": {
        "id": "BPzctZDeIT7P"
      }
    },
    {
      "cell_type": "code",
      "source": [
        "import numpy as np"
      ],
      "metadata": {
        "id": "y02icienK8pa"
      },
      "execution_count": 39,
      "outputs": []
    },
    {
      "cell_type": "markdown",
      "source": [
        "\n",
        "\n",
        "---\n",
        "\n",
        "\n",
        "## Problem 1\n",
        "Student A, Student B, and Student C have a total of Php 89 cash in their banks. Student A has 6 less than Student C. Student B has 3 times what Student C has. How much does each student have?"
      ],
      "metadata": {
        "id": "BFkkWlqTIiJ1"
      }
    },
    {
      "cell_type": "markdown",
      "source": [
        "Given:\n",
        "\\begin{equation}\n",
        "A + B + C = 89\n",
        "\\end{equation}\n",
        "\\begin{equation}\n",
        "A = C - 9\n",
        "\\end{equation}\n",
        "\\begin{equation}\n",
        "B = 3C\n",
        "\\end{equation}\n",
        "\\\n",
        "\\\n",
        "Rearrangging...\n",
        "\\begin{equation}\n",
        "A + B + C = 89\n",
        "\\end{equation}\n",
        "\\begin{equation}\n",
        "A - C = 9\n",
        "\\end{equation}\n",
        "\\begin{equation}\n",
        "B - 3C = 0\n",
        "\\end{equation}\n",
        "\\\n",
        "\\\n",
        "Matrix Form:\n",
        "\\begin{equation}\n",
        "A = \n",
        "\\begin{bmatrix}\n",
        "1 & 1 & 1 \\\\\n",
        "1 & 0 & -1 \\\\\n",
        "0 & 1 & -3\n",
        "\\end{bmatrix}\n",
        "=\n",
        "\\begin{bmatrix}\n",
        "89\\\\ 9 \\\\ 0 \n",
        "\\end{bmatrix}\n",
        "\\end{equation}"
      ],
      "metadata": {
        "id": "kQ0hke-7X38a"
      }
    },
    {
      "cell_type": "code",
      "source": [
        "## Declaringg the matrix\n",
        "A = np.array([[1,1,1], [1,0,-1], [0,1,-3]])\n",
        "B = np.array([89, -6, 0])\n",
        "\n",
        "## Solving for the values of A, B, & C\n",
        "x = np.linalg.solve(A,B).astype(int)\n",
        "\n",
        "## Output\n",
        "print(\"\\nResult:\")\n",
        "print(\"Student A has Php\", x[0])\n",
        "print(\"Student B has Php\", x[1])\n",
        "print(\"Student C has Php\", x[2])"
      ],
      "metadata": {
        "colab": {
          "base_uri": "https://localhost:8080/"
        },
        "id": "Ynp-redhIk-m",
        "outputId": "f4dd8db0-e4d7-4402-e4ac-4fcc63b94cfa"
      },
      "execution_count": 75,
      "outputs": [
        {
          "output_type": "stream",
          "name": "stdout",
          "text": [
            "\n",
            "Result:\n",
            "Student A has Php 13\n",
            "Student B has Php 57\n",
            "Student C has Php 19\n"
          ]
        }
      ]
    },
    {
      "cell_type": "markdown",
      "source": [
        "\n",
        "\n",
        "---\n",
        "\n",
        "\n",
        "## Problem 2\n",
        "\n",
        "\n",
        "Solve each system\n",
        "\n",
        "3x - y + z = 5\n",
        "\n",
        "9x - 3y +3z = 15\n",
        "\n",
        "-12x +4y -4z = -20 \n",
        "\n",
        "\n"
      ],
      "metadata": {
        "id": "L8Jq66oLIv4X"
      }
    },
    {
      "cell_type": "code",
      "source": [
        "## Declaring the matrices\n",
        "A = np.array([[3, -1, 1], [9, -3, 3], [-12, 4, -4]])\n",
        "B = np.array([5, 15, -20])\n",
        "\n",
        "A_det = np.linalg.det(A)\n",
        "print(\"Determinant: \", A_det)"
      ],
      "metadata": {
        "colab": {
          "base_uri": "https://localhost:8080/"
        },
        "id": "sx5jEiwLI4KO",
        "outputId": "673e0af3-f2aa-4df5-abc0-7f31b6ac238f"
      },
      "execution_count": 76,
      "outputs": [
        {
          "output_type": "stream",
          "name": "stdout",
          "text": [
            "Determinant:  0.0\n"
          ]
        }
      ]
    },
    {
      "cell_type": "markdown",
      "source": [
        "**Answer:** The determinant of matrix A is 0, meaning that\n",
        "the system has linearly dependent equations.\n"
      ],
      "metadata": {
        "id": "kKC8NMG6WMbx"
      }
    },
    {
      "cell_type": "markdown",
      "source": [
        "\n",
        "\n",
        "---\n",
        "\n",
        "\n",
        "## Problem 3\n",
        "Problem 3. Consider the matrix,\n",
        "\n",
        "\\begin{equation}\n",
        "A = \n",
        "\\begin{bmatrix}\n",
        "    8 & 5 & -6 \\\\\n",
        "    -12 & -9 & 12 \\\\\n",
        "    -3 & -3 & 5\n",
        "    \\end{bmatrix}\n",
        "\\end{equation}\n",
        "\n",
        "\n",
        "1.   Find the eigenvalue/s\n",
        "2.   Find the eigenvectors"
      ],
      "metadata": {
        "id": "DbXSp50KI1y0"
      }
    },
    {
      "cell_type": "code",
      "source": [
        "## Decalaring the matrix\n",
        "A = np.array([[8,5,-6], [-12,-9,12], [-3,-3,5]])\n",
        "## Getting the eigenvalue(s) and eigenvetors\n",
        "w,v = np.linalg.eig(A)\n",
        "\n",
        "## Printing matrix A\n",
        "print(\"Matrix A:\\n\", A, \"\\n\")\n",
        "\n",
        "## Printing the eigenvalue(s) and eigenvetors\n",
        "print(\"Eigenvalue/s:\\n\", w.astype(int) , \"\\n\")   # np.astype was used to convert float to int\n",
        "print(\"Eigenvectors:\\n\", v.astype(int) , \"\\n\")\n"
      ],
      "metadata": {
        "colab": {
          "base_uri": "https://localhost:8080/"
        },
        "id": "1kKr-N12I6U8",
        "outputId": "5ad4bdc0-ea5a-40af-db18-27dd78044f45"
      },
      "execution_count": 77,
      "outputs": [
        {
          "output_type": "stream",
          "name": "stdout",
          "text": [
            "Matrix A:\n",
            " [[  8   5  -6]\n",
            " [-12  -9  12]\n",
            " [ -3  -3   5]] \n",
            "\n",
            "Eigenvalue/s:\n",
            " [0 2 2] \n",
            "\n",
            "Eigenvectors:\n",
            " [[0 0 0]\n",
            " [0 0 0]\n",
            " [0 0 0]] \n",
            "\n"
          ]
        }
      ]
    }
  ]
}