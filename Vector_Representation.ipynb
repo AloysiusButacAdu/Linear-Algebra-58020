{
  "nbformat": 4,
  "nbformat_minor": 0,
  "metadata": {
    "colab": {
      "name": "Vector Representation.ipynb",
      "provenance": [],
      "authorship_tag": "ABX9TyN0VageR+nR76z816i1zKmW"
    },
    "kernelspec": {
      "name": "python3",
      "display_name": "Python 3"
    },
    "language_info": {
      "name": "python"
    }
  },
  "cells": [
    {
      "cell_type": "markdown",
      "metadata": {
        "id": "2k12u54rA9Fi"
      },
      "source": [
        "# Matrix and its Operations\n"
      ]
    },
    {
      "cell_type": "code",
      "metadata": {
        "id": "SnhK2c8tBCsU"
      },
      "source": [
        "import numpy as np"
      ],
      "execution_count": 10,
      "outputs": []
    },
    {
      "cell_type": "code",
      "metadata": {
        "colab": {
          "base_uri": "https://localhost:8080/"
        },
        "id": "eJaEQDTRCPVe",
        "outputId": "c82f5dc2-73dd-41e0-87df-26f040ed206f"
      },
      "source": [
        "## Creating a 1x3 array (matrix)\n",
        "a = np.array([1,1,1])\n",
        "print(a)"
      ],
      "execution_count": 9,
      "outputs": [
        {
          "output_type": "stream",
          "name": "stdout",
          "text": [
            "[1 1 1]\n"
          ]
        }
      ]
    },
    {
      "cell_type": "code",
      "metadata": {
        "colab": {
          "base_uri": "https://localhost:8080/"
        },
        "id": "vXobTMuKB_zm",
        "outputId": "fd127ebe-9db9-437a-fab8-cfbb9bef2fa7"
      },
      "source": [
        "## Creating a 2x3 matrix\n",
        "b = np.array([[1,1,1],[2,2,2]]) ## <-- Rectangular array (matrix)\n",
        "print(b)"
      ],
      "execution_count": 19,
      "outputs": [
        {
          "output_type": "stream",
          "name": "stdout",
          "text": [
            "[[1 1 1]\n",
            " [2 2 2]]\n"
          ]
        }
      ]
    },
    {
      "cell_type": "code",
      "metadata": {
        "colab": {
          "base_uri": "https://localhost:8080/"
        },
        "id": "TbMTdZnECtQk",
        "outputId": "243f6e1c-7f0d-4a99-f5cd-b3888b93a5b7"
      },
      "source": [
        "## Creating a 3x3 matrix\n",
        "c = np.array([[1,1,1],[2,2,2],[3,3,3]])\n",
        "print(c)"
      ],
      "execution_count": 18,
      "outputs": [
        {
          "output_type": "stream",
          "name": "stdout",
          "text": [
            "[[1 1 1]\n",
            " [2 2 2]\n",
            " [3 3 3]]\n"
          ]
        }
      ]
    },
    {
      "cell_type": "code",
      "metadata": {
        "colab": {
          "base_uri": "https://localhost:8080/"
        },
        "id": "T24vbywfDBk9",
        "outputId": "2c8708e2-7c02-4a52-f58c-a69f7382abab"
      },
      "source": [
        "## Creating a constant array with all values are constant\n",
        "d =np.full([3,3],8) ## can use []\n",
        "d_2 =np.full((3,3),0) ## <-- Square Matrix\n",
        "print(d)\n",
        "print(d_2)"
      ],
      "execution_count": 26,
      "outputs": [
        {
          "output_type": "stream",
          "name": "stdout",
          "text": [
            "[[8 8 8]\n",
            " [8 8 8]\n",
            " [8 8 8]]\n",
            "[[0 0 0]\n",
            " [0 0 0]\n",
            " [0 0 0]]\n"
          ]
        }
      ]
    },
    {
      "cell_type": "code",
      "metadata": {
        "colab": {
          "base_uri": "https://localhost:8080/"
        },
        "id": "e4R8JA6zDp3s",
        "outputId": "103794ab-9d6e-480d-82ac-0efdbb37f4a0"
      },
      "source": [
        "## Creating a diagonal matrix\n",
        "e = np.diagonal(c)\n",
        "print(c)\n",
        "print(e)"
      ],
      "execution_count": 29,
      "outputs": [
        {
          "output_type": "stream",
          "name": "stdout",
          "text": [
            "[[1 1 1]\n",
            " [2 2 2]\n",
            " [3 3 3]]\n",
            "[1 2 3]\n"
          ]
        }
      ]
    },
    {
      "cell_type": "code",
      "metadata": {
        "colab": {
          "base_uri": "https://localhost:8080/"
        },
        "id": "ftjWzNl2Ek-0",
        "outputId": "7d911cfe-9c76-4304-d5f8-a24e7c83fa3d"
      },
      "source": [
        "## Creating an identity matrix\n",
        "f = np.eye(6,dtype=int)\n",
        "print(f)"
      ],
      "execution_count": 32,
      "outputs": [
        {
          "output_type": "stream",
          "name": "stdout",
          "text": [
            "[[1 0 0 0 0 0]\n",
            " [0 1 0 0 0 0]\n",
            " [0 0 1 0 0 0]\n",
            " [0 0 0 1 0 0]\n",
            " [0 0 0 0 1 0]\n",
            " [0 0 0 0 0 1]]\n"
          ]
        }
      ]
    },
    {
      "cell_type": "code",
      "metadata": {
        "colab": {
          "base_uri": "https://localhost:8080/"
        },
        "id": "oz9C3pJoE5cL",
        "outputId": "3346490a-148f-4f1e-a870-924b3b905a3a"
      },
      "source": [
        "## Creating a zero matrix\n",
        "g = np.zeros((4,8),dtype=int)\n",
        "print(g)"
      ],
      "execution_count": 39,
      "outputs": [
        {
          "output_type": "stream",
          "name": "stdout",
          "text": [
            "[[0 0 0 0 0 0 0 0]\n",
            " [0 0 0 0 0 0 0 0]\n",
            " [0 0 0 0 0 0 0 0]\n",
            " [0 0 0 0 0 0 0 0]]\n"
          ]
        }
      ]
    },
    {
      "cell_type": "code",
      "metadata": {
        "colab": {
          "base_uri": "https://localhost:8080/"
        },
        "id": "KkWYEKRvFbjz",
        "outputId": "b0e52f1e-93d9-4c2e-9f1e-a224280ef895"
      },
      "source": [
        "## Creating an empty matrix\n",
        "h = np.empty((0,99))\n",
        "h_2 = np.empty((5,2)) ## ??????\n",
        "print(h)\n",
        "print(h_2)"
      ],
      "execution_count": 46,
      "outputs": [
        {
          "output_type": "stream",
          "name": "stdout",
          "text": [
            "[]\n",
            "[[0.00000000e+000 1.82804289e-322]\n",
            " [0.00000000e+000 0.00000000e+000]\n",
            " [0.00000000e+000 1.16096346e-028]\n",
            " [9.82205649e+252 1.11789342e+253]\n",
            " [3.00312108e-067 2.65534875e-312]]\n"
          ]
        }
      ]
    },
    {
      "cell_type": "code",
      "metadata": {
        "colab": {
          "base_uri": "https://localhost:8080/"
        },
        "id": "VbWsEN8oGEp7",
        "outputId": "11ff7ddb-b513-4dd0-dac3-f9e947bcc35a"
      },
      "source": [
        "## Addition of Matrices\n",
        "i = np.array([[1,2,3],[4,5,6],[7,8,9]])\n",
        "j = np.zeros((3,3),dtype=int) ## float + int = float; int + int = int\n",
        "print(i+j)"
      ],
      "execution_count": 54,
      "outputs": [
        {
          "output_type": "stream",
          "name": "stdout",
          "text": [
            "[[1 2 3]\n",
            " [4 5 6]\n",
            " [7 8 9]]\n"
          ]
        }
      ]
    },
    {
      "cell_type": "code",
      "metadata": {
        "colab": {
          "base_uri": "https://localhost:8080/"
        },
        "id": "-42Lwu6PGkA6",
        "outputId": "83a7ff46-cf28-4d47-beba-7965eb0808c3"
      },
      "source": [
        "## Subtraction of Matrices\n",
        "j = np.array([[-1,-2,-3],[-4,-5,-6],[-7,-8,-9]])\n",
        "print(i-j)\n"
      ],
      "execution_count": 57,
      "outputs": [
        {
          "output_type": "stream",
          "name": "stdout",
          "text": [
            "[[ 2  4  6]\n",
            " [ 8 10 12]\n",
            " [14 16 18]]\n"
          ]
        }
      ]
    }
  ]
}