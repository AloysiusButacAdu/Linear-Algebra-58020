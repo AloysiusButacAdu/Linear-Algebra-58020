{
  "nbformat": 4,
  "nbformat_minor": 0,
  "metadata": {
    "colab": {
      "name": "Python Exercise 3.ipynb",
      "provenance": [],
      "authorship_tag": "ABX9TyOQObUWsvUpE0t2jnJrCqTT",
      "include_colab_link": true
    },
    "kernelspec": {
      "name": "python3",
      "display_name": "Python 3"
    },
    "language_info": {
      "name": "python"
    }
  },
  "cells": [
    {
      "cell_type": "markdown",
      "metadata": {
        "id": "view-in-github",
        "colab_type": "text"
      },
      "source": [
        "<a href=\"https://colab.research.google.com/github/AloysiusButacAdu/Linear-Algebra-58020/blob/main/Python_Exercise_3.ipynb\" target=\"_parent\"><img src=\"https://colab.research.google.com/assets/colab-badge.svg\" alt=\"Open In Colab\"/></a>"
      ]
    },
    {
      "cell_type": "code",
      "metadata": {
        "id": "nttuM7a6jxyI"
      },
      "source": [
        "import numpy as np"
      ],
      "execution_count": 1,
      "outputs": []
    },
    {
      "cell_type": "code",
      "metadata": {
        "colab": {
          "base_uri": "https://localhost:8080/"
        },
        "id": "4gXVGooyj2Ad",
        "outputId": "902265b6-d83b-4aab-ba1f-f0e3beb3c6d0"
      },
      "source": [
        "# Declaring the matrix\n",
        "A = np.array([[1, 1, 1], [1, 2, 2,], [1, 2, 3]])\n",
        "B = np.array([[5], [6], [8]])\n",
        "print(A)\n",
        "print(B)"
      ],
      "execution_count": 3,
      "outputs": [
        {
          "output_type": "stream",
          "name": "stdout",
          "text": [
            "[[1 1 1]\n",
            " [1 2 2]\n",
            " [1 2 3]]\n",
            "[[5]\n",
            " [6]\n",
            " [8]]\n"
          ]
        }
      ]
    },
    {
      "cell_type": "code",
      "metadata": {
        "colab": {
          "base_uri": "https://localhost:8080/"
        },
        "id": "XKfE8E_2kLn-",
        "outputId": "4cd29e59-7c29-4dcc-c540-31bfd15cc830"
      },
      "source": [
        "# FORMULA: AA^-1X = BA^-1\n",
        "\n",
        "# Solving for inverse of A\n",
        "A_inv = np.linalg.inv(A)\n",
        "print(A_inv)\n",
        "\n",
        "# Solving for BA^-1\n",
        "## Same as: np.dot(A_inv, B)\n",
        "X = A_inv @ B \n",
        "print(X)"
      ],
      "execution_count": 7,
      "outputs": [
        {
          "output_type": "stream",
          "name": "stdout",
          "text": [
            "[[ 2. -1.  0.]\n",
            " [-1.  2. -1.]\n",
            " [ 0. -1.  1.]]\n",
            "[[ 4.]\n",
            " [-1.]\n",
            " [ 2.]]\n"
          ]
        }
      ]
    }
  ]
}